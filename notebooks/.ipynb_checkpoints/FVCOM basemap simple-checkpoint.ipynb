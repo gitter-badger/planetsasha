{
 "metadata": {
  "name": "FVCOM basemap simple"
 },
 "nbformat": 3,
 "nbformat_minor": 0,
 "worksheets": [
  {
   "cells": [
    {
     "cell_type": "code",
     "collapsed": false,
     "input": [
      "from pylab import *\n",
      "from matplotlib.collections import PolyCollection\n",
      "import matplotlib.tri as Tri\n",
      "from mpl_toolkits.basemap import Basemap\n",
      "import netCDF4"
     ],
     "language": "python",
     "metadata": {},
     "outputs": []
    },
    {
     "cell_type": "code",
     "collapsed": false,
     "input": [
      "url = 'http://www.smast.umassd.edu:8080/thredds/dodsC/FVCOM/NECOFS/Forecasts/NECOFS_FVCOM_OCEAN_MASSBAY_FORECAST.nc'\n",
      "nc = netCDF4.Dataset(url)\n",
      "# read node locations\n",
      "lat = nc.variables['lat'][:]\n",
      "lon = nc.variables['lon'][:]\n",
      "# read connectivity array\n",
      "nv = nc.variables['nv'][:].T - 1"
     ],
     "language": "python",
     "metadata": {},
     "outputs": []
    },
    {
     "cell_type": "code",
     "collapsed": false,
     "input": [
      "# create a triangulation object, specifying the triangle connectivity array\n",
      "tri = Tri.Triangulation(lon,lat, triangles=nv)"
     ],
     "language": "python",
     "metadata": {},
     "outputs": []
    },
    {
     "cell_type": "code",
     "collapsed": false,
     "input": [
      "h = nc.variables['h'][ :]"
     ],
     "language": "python",
     "metadata": {},
     "outputs": []
    },
    {
     "cell_type": "code",
     "collapsed": false,
     "input": [
      "# Now try plotting speed and vectors with Basemap using a PolyCollection\n",
      "m = Basemap(projection='merc', llcrnrlat=lat.min(), urcrnrlat=lat.max(), \n",
      "    llcrnrlon=lon.min(), urcrnrlon=lon.max(), lat_ts=lat.mean(), resolution=None)\n",
      "\n",
      "xnode, ynode = m(lon, lat) # convert to map coordinates with basemap\n",
      "\n",
      "# create another TRI object with projected coordinates\n",
      "tri = Tri.Triangulation(xnode, ynode, triangles=nv)\n",
      "\n",
      "# turn the triangles into a PolyCollection\n",
      "verts = concatenate((tri.x[tri.triangles][..., None],\n",
      "      tri.y[tri.triangles][..., None]), axis=2)\n",
      "collection = PolyCollection(verts)\n",
      "collection.set_edgecolor('none')"
     ],
     "language": "python",
     "metadata": {},
     "outputs": []
    },
    {
     "cell_type": "code",
     "collapsed": false,
     "input": [
      "# set the magnitude of the polycollection to the speed\n",
      "collection.set_array(-h)\n",
      "collection.norm.vmin=-300\n",
      "collection.norm.vmax=0"
     ],
     "language": "python",
     "metadata": {},
     "outputs": []
    },
    {
     "cell_type": "code",
     "collapsed": false,
     "input": [
      "fig=figure(figsize=(12,12))\n",
      "ax=fig.add_subplot(111)\n",
      "m.drawmapboundary(fill_color='0.3')\n",
      "#m.drawcoastlines()\n",
      "#m.fillcontinents()\n",
      "# add the speed as colored triangles \n",
      "ax.add_collection(collection) # add polygons to axes on basemap instance\n",
      "title('FVCOM Bathymetry')"
     ],
     "language": "python",
     "metadata": {},
     "outputs": []
    },
    {
     "cell_type": "code",
     "collapsed": false,
     "input": [],
     "language": "python",
     "metadata": {},
     "outputs": []
    }
   ],
   "metadata": {}
  }
 ]
}
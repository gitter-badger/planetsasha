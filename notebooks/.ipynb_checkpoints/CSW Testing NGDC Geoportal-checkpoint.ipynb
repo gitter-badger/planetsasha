{
 "metadata": {
  "name": "CSW Testing NGDC Geoportal"
 },
 "nbformat": 3,
 "nbformat_minor": 0,
 "worksheets": [
  {
   "cells": [
    {
     "cell_type": "heading",
     "level": 1,
     "metadata": {},
     "source": [
      "Exploring CSW access in Python using OWSLib with NGDC Geoportal"
     ]
    },
    {
     "cell_type": "code",
     "collapsed": false,
     "input": [
      "from IPython.core.display import HTML\n",
      "HTML('<iframe src=http://www.ngdc.noaa.gov/geoportal/ width=900 height=280></iframe>')"
     ],
     "language": "python",
     "metadata": {},
     "outputs": []
    },
    {
     "cell_type": "code",
     "collapsed": false,
     "input": [
      "from owslib.csw import CatalogueServiceWeb\n",
      "from owslib.etree import etree"
     ],
     "language": "python",
     "metadata": {},
     "outputs": []
    },
    {
     "cell_type": "code",
     "collapsed": false,
     "input": [
      "# connect to CSW, explore it's properties\n",
      "#endpoint = 'http://data.nodc.noaa.gov/geoportal/csw'  # NODC Geoportal: collection level\n",
      "#endpoint = 'http://geodiscover.cgdi.ca/wes/serviceManagerCSW/csw'  # NRCAN \n",
      "#endpoint = 'http://geoport.whoi.edu/gi-cat/services/cswiso' # USGS Woods Hole GI_CAT\n",
      "#endpoint = 'http://cida.usgs.gov/gdp/geonetwork/srv/en/csw' # USGS CIDA Geonetwork\n",
      "#endpoint = 'http://www.nodc.noaa.gov/geoportal/csw'   # NODC Geoportal: granule level\n",
      "#endpoint = 'http://cmgds.marine.usgs.gov/geonetwork/srv/en/csw'  # USGS Coastal & Marine Program Geonetwork\n",
      "endpoint = 'http://www.ngdc.noaa.gov/geoportal/csw' # NGDC Geoportal\n",
      "\n",
      "csw = CatalogueServiceWeb(endpoint, lang='en-US', version='2.0.2', timeout=30)\n",
      "csw.version"
     ],
     "language": "python",
     "metadata": {},
     "outputs": []
    },
    {
     "cell_type": "code",
     "collapsed": false,
     "input": [
      "[op.name for op in csw.operations]"
     ],
     "language": "python",
     "metadata": {},
     "outputs": []
    },
    {
     "cell_type": "markdown",
     "metadata": {},
     "source": [
      "##Example query using csw.getrecords keyword arguments"
     ]
    },
    {
     "cell_type": "code",
     "collapsed": false,
     "input": [
      "bbox=[-141,42,-52,84]\n",
      "#bbox=[-71.5, 39.5, -63.0, 46]\n",
      "csw.getrecords(keywords=['sea_water_temperature'],bbox=bbox,maxrecords=10,esn='full')\n",
      "csw.results"
     ],
     "language": "python",
     "metadata": {},
     "outputs": []
    },
    {
     "cell_type": "code",
     "collapsed": false,
     "input": [
      "for rec,item in csw.records.iteritems():\n",
      "    print item.title"
     ],
     "language": "python",
     "metadata": {},
     "outputs": []
    },
    {
     "cell_type": "code",
     "collapsed": false,
     "input": [
      "# choose a sample record\n",
      "a=csw.records['ncom/ncom_reg1_agg/NCOM_Region_1_Aggregation_best.ncd']"
     ],
     "language": "python",
     "metadata": {},
     "outputs": []
    },
    {
     "cell_type": "code",
     "collapsed": false,
     "input": [
      "print a.title"
     ],
     "language": "python",
     "metadata": {},
     "outputs": []
    },
    {
     "cell_type": "code",
     "collapsed": false,
     "input": [
      "# lets look at the references\n",
      "a.references"
     ],
     "language": "python",
     "metadata": {},
     "outputs": []
    },
    {
     "cell_type": "code",
     "collapsed": false,
     "input": [
      "def service_urls(records,service_string=None):\n",
      "    urls=[]\n",
      "    for key,rec in records.iteritems():\n",
      "        #create a generator object, and iterate through it until the match is found\n",
      "        #if not found, gets the default value (here \"none\")\n",
      "        url = next((d['url'] for d in rec.references if d['scheme'] == service_string), None)\n",
      "        if url is not None:\n",
      "            urls.append(url)\n",
      "    return urls"
     ],
     "language": "python",
     "metadata": {},
     "outputs": []
    },
    {
     "cell_type": "code",
     "collapsed": false,
     "input": [
      "dap_urls = service_urls(csw.records,service_string='urn:x-esri:specification:ServiceType:odp:url')\n",
      "print dap_urls"
     ],
     "language": "python",
     "metadata": {},
     "outputs": []
    },
    {
     "cell_type": "markdown",
     "metadata": {},
     "source": [
      "## Example query using csw.getrecords \"raw XML\" input"
     ]
    },
    {
     "cell_type": "code",
     "collapsed": false,
     "input": [
      "csw_endpoint='http://www.ngdc.noaa.gov/geoportal/csw'"
     ],
     "language": "python",
     "metadata": {},
     "outputs": []
    },
    {
     "cell_type": "code",
     "collapsed": false,
     "input": [
      "# example query for OPeNDAP service endpoints \n",
      "# lifted from: https://geo-ide.noaa.gov/wiki/index.php?title=ESRI_Geoportal#PacIOOS_WAF\n",
      "xml_string='''\n",
      "<?xml version=\"1.0\"?>\t\n",
      "<csw:GetRecords xmlns:csw=\"http://www.opengis.net/cat/csw/2.0.2\" version=\"2.0.2\" service=\"CSW\" resultType=\"results\"\n",
      "outputSchema=\"http://www.isotc211.org/2005/gmd\" startPosition=\"1\" maxRecords=\"1000\">\n",
      "  <csw:Query typeNames=\"csw:Record\" xmlns:ogc=\"http://www.opengis.net/ogc\" xmlns:gml=\"http://www.opengis.net/gml\">\n",
      "  <csw:ElementSetName>full</csw:ElementSetName> \n",
      "  <csw:Constraint version=\"1.1.0\">\n",
      "  <ogc:Filter>\n",
      "    <ogc:And>\n",
      "      <ogc:PropertyIsEqualTo>\n",
      "        <ogc:PropertyName>sys.siteuuid</ogc:PropertyName>\n",
      "        <ogc:Literal>{78C0463E-2FCE-4AB2-A9C9-6A34BF261F52}</ogc:Literal>\n",
      "      </ogc:PropertyIsEqualTo>\n",
      "      <ogc:PropertyIsLike wildCard=\"*\" escape=\"\\\" singleChar=\"?\"> \n",
      "        <ogc:PropertyName>apiso:ServiceType</ogc:PropertyName>\n",
      "        <ogc:Literal>*opendap*</ogc:Literal>\n",
      "      </ogc:PropertyIsLike>\n",
      "    </ogc:And> \n",
      "  </ogc:Filter> \n",
      "</csw:Constraint> \n",
      "</csw:Query>\n",
      "</csw:GetRecords>\n",
      "'''"
     ],
     "language": "python",
     "metadata": {},
     "outputs": []
    },
    {
     "cell_type": "code",
     "collapsed": false,
     "input": [
      "csw.getrecords(xml=xml_string.strip())\n",
      "csw.results"
     ],
     "language": "python",
     "metadata": {},
     "outputs": []
    },
    {
     "cell_type": "code",
     "collapsed": false,
     "input": [
      "print(csw.response)"
     ],
     "language": "python",
     "metadata": {},
     "outputs": []
    },
    {
     "cell_type": "code",
     "collapsed": false,
     "input": [
      "import StringIO\n",
      "e = etree.parse(StringIO.StringIO(csw.response)) "
     ],
     "language": "python",
     "metadata": {},
     "outputs": []
    },
    {
     "cell_type": "code",
     "collapsed": false,
     "input": [
      "e.getroot()"
     ],
     "language": "python",
     "metadata": {},
     "outputs": []
    },
    {
     "cell_type": "code",
     "collapsed": false,
     "input": [
      "# this is as far as I got with parsing the response from the above XML post query"
     ],
     "language": "python",
     "metadata": {},
     "outputs": []
    }
   ],
   "metadata": {}
  }
 ]
}
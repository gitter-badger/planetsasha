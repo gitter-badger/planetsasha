{
 "metadata": {
  "name": "CSW_woods_hole_with_plots"
 },
 "nbformat": 3,
 "nbformat_minor": 0,
 "worksheets": [
  {
   "cells": [
    {
     "cell_type": "heading",
     "level": 1,
     "metadata": {},
     "source": [
      "CSW access in Python using OWSLib with USGS Woods Hole Geoportal"
     ]
    },
    {
     "cell_type": "markdown",
     "metadata": {},
     "source": [
      "Can we find and access data using IOOS approved standard catalog search and data retrieval? <br><br>\n",
      "Here we demonstrate searching for ocean temperature data based on bounding box \n",
      "and keyword using OGC CSW, finding the OPeNDAP data endpoints associated with those datasets, \n",
      "and then plotting the time series located.  This is done using standard python packages: OWSlib to \n",
      "formulate and process the CSW catalog request, NetCDF4 Python to retrieve the data via OPeNDAP, \n",
      "and Pandas to plot the results. "
     ]
    },
    {
     "cell_type": "code",
     "collapsed": false,
     "input": [
      "from pylab import *\n",
      "from owslib.csw import CatalogueServiceWeb\n",
      "import netCDF4\n",
      "import pandas as pd"
     ],
     "language": "python",
     "metadata": {},
     "outputs": []
    },
    {
     "cell_type": "code",
     "collapsed": false,
     "input": [
      "from IPython.core.display import HTML\n",
      "HTML('<iframe src=http://geoport.whoi.edu/geoportal/ width=900 height=400></iframe>')"
     ],
     "language": "python",
     "metadata": {},
     "outputs": []
    },
    {
     "cell_type": "code",
     "collapsed": false,
     "input": [
      "# connect to CSW, explore it's properties\n",
      "#endpoint = 'http://www.ngdc.noaa.gov/geoportal/csw' # NGDC Geoportal\n",
      "#endpoint = 'http://www.nodc.noaa.gov/geoportal/csw'   # NODC Geoportal: granule level\n",
      "#endpoint = 'http://data.nodc.noaa.gov/geoportal/csw'  # NODC Geoportal: collection level\n",
      "    \n",
      "#endpoint = 'http://geodiscover.cgdi.ca/wes/serviceManagerCSW/csw'  # NRCAN CUSTOM\n",
      "#endpoint = 'http://geoport.whoi.edu/gi-cat/services/cswiso' # USGS Woods Hole GI_CAT\n",
      "#endpoint = 'http://cida.usgs.gov/gdp/geonetwork/srv/en/csw' # USGS CIDA Geonetwork\n",
      "\n",
      "endpoint = 'http://geoport.whoi.edu/geoportal/csw'\n",
      "\n",
      "csw = CatalogueServiceWeb(endpoint,timeout=30)\n",
      "csw.version"
     ],
     "language": "python",
     "metadata": {},
     "outputs": []
    },
    {
     "cell_type": "code",
     "collapsed": false,
     "input": [
      "[op.name for op in csw.operations]"
     ],
     "language": "python",
     "metadata": {},
     "outputs": []
    },
    {
     "cell_type": "code",
     "collapsed": false,
     "input": [
      "# Perform the CSW query.  To get the Data URLS (including DAP), we need to specify\n",
      "# esn='full' to get the full Dublin Core response ('summary' is the default)\n",
      "\n",
      "#bbox=[-71.5, 39.5, -63.0, 46]\n",
      "bbox=[-180, 0, 180.0, 90]\n",
      "std_name='sea_water_temperature'\n",
      "csw.getrecords(keywords=[std_name],bbox=bbox,maxrecords=5,esn='full')\n",
      "csw.results"
     ],
     "language": "python",
     "metadata": {},
     "outputs": []
    },
    {
     "cell_type": "code",
     "collapsed": false,
     "input": [
      "csw.records.keys()"
     ],
     "language": "python",
     "metadata": {},
     "outputs": []
    },
    {
     "cell_type": "code",
     "collapsed": false,
     "input": [
      "for rec,item in csw.records.iteritems():\n",
      "    print item.title"
     ],
     "language": "python",
     "metadata": {},
     "outputs": []
    },
    {
     "cell_type": "code",
     "collapsed": false,
     "input": [
      "# get specific ServiceType URL from records\n",
      "def service_urls(records,service_string='urn:x-esri:specification:ServiceType:odp:url'):\n",
      "    urls=[]\n",
      "    for key,rec in records.iteritems():\n",
      "        #create a generator object, and iterate through it until the match is found\n",
      "        #if not found, gets the default value (here \"none\")\n",
      "        url = next((d['url'] for d in rec.references if d['scheme'] == service_string), None)\n",
      "        if url is not None:\n",
      "            urls.append(url)\n",
      "    return urls"
     ],
     "language": "python",
     "metadata": {},
     "outputs": []
    },
    {
     "cell_type": "code",
     "collapsed": false,
     "input": [
      "dap_urls = service_urls(csw.records,service_string='urn:x-esri:specification:ServiceType:odp:url')\n",
      "print(dap_urls)"
     ],
     "language": "python",
     "metadata": {},
     "outputs": []
    },
    {
     "cell_type": "code",
     "collapsed": false,
     "input": [
      "def standard_names(nc):\n",
      "    '''\n",
      "    get dictionary of variables with standard_names\n",
      "    '''\n",
      "    d={}\n",
      "    for k,v in nc.iteritems():\n",
      "        try:\n",
      "            standard_name=v.getncattr('standard_name')\n",
      "            try:\n",
      "                d[standard_name]=[d[standard_name],[k]]\n",
      "            except:\n",
      "                d[standard_name]=[k]\n",
      "        except:\n",
      "            pass\n",
      "    return d"
     ],
     "language": "python",
     "metadata": {},
     "outputs": []
    },
    {
     "cell_type": "code",
     "collapsed": false,
     "input": [
      "for url in dap_urls:\n",
      "    nc = netCDF4.Dataset(url).variables\n",
      "    lat = nc['lat'][:]\n",
      "    lon = nc['lon'][:]\n",
      "    time_var = nc['time']\n",
      "    dtime = netCDF4.num2date(time_var[:],time_var.units)\n",
      "    # make a dictionary containing all data from variables that matched the standard_name\n",
      "    # find list of variables for each standard_name\n",
      "    d = standard_names(nc)\n",
      "    # find all the variables matching standard_name=std_name\n",
      "    d[std_name]\n",
      "    # read all the data into a dictionary\n",
      "    data_dict={}\n",
      "    for v in d[std_name]:\n",
      "        data_dict[v]=nc[v][:].flatten()\n",
      "    # Create Pandas data frame, with time index\n",
      "    ts = pd.DataFrame.from_dict(data_dict)\n",
      "    ts.index=dtime\n",
      "    ts.plot(figsize=(12,4));\n",
      "    title(std_name)"
     ],
     "language": "python",
     "metadata": {},
     "outputs": []
    }
   ],
   "metadata": {}
  }
 ]
}
{
 "metadata": {
  "name": "NODC_Geoportal"
 },
 "nbformat": 3,
 "nbformat_minor": 0,
 "worksheets": [
  {
   "cells": [
    {
     "cell_type": "code",
     "collapsed": false,
     "input": [
      "from owslib.csw import CatalogueServiceWeb"
     ],
     "language": "python",
     "metadata": {},
     "outputs": []
    },
    {
     "cell_type": "code",
     "collapsed": false,
     "input": [
      "endpoint = 'http://www.nodc.noaa.gov/geoportal/csw'\n",
      "bbox = [-71.5, 39.5, -63.0, 46]\n",
      "keywords = ['temperature']\n",
      "maxrecords = 20\n",
      "service_type = 'opendap'\n",
      "\n",
      "def getResource(endpoint = 'http://www.nodc.noaa.gov/geoportal/csw', bbox=None, keywords=None, maxrecords=1, service_type='opendap', verbose=None):\n",
      "    if service_type == 'opendap':\n",
      "        service_string='urn:x-esri:specification:ServiceType:OPeNDAP'\n",
      "    if service_type == 'wms':\n",
      "        service_string='urn:x-esri:specification:ServiceType:WMS'\n",
      "    csw = CatalogueServiceWeb(endpoint,timeout=30)\n",
      "    if keywords is not None:\n",
      "        csw.getrecords(keywords=keywords, bbox=bbox, maxrecords=maxrecords)\n",
      "    else :\n",
      "        csw.getrecords(bbox=bbox, maxrecords=maxrecords)\n",
      "    csw.records.keys()\n",
      "    result = {}\n",
      "    for i in csw.records.keys():\n",
      "        records=csw.records[i]\n",
      "        resource = {}\n",
      "        for key,rec in csw.records.iteritems():\n",
      "            url = next((d['url'] for d in rec.references if d['scheme'] == service_string), None)\n",
      "            if url is not None:\n",
      "                resource[rec.title] = url\n",
      "        result[i] = resource\n",
      "    if verbose is not None:\n",
      "        print 'endpoint: ', endpoint, '\\n' , 'bbox: ', bbox, '\\n' , 'keywords: ', keywords, '\\n', 'maxrecords: ', maxrecords , '\\n', 'service_type: ' , service_type\n",
      "    return result"
     ],
     "language": "python",
     "metadata": {},
     "outputs": []
    },
    {
     "cell_type": "code",
     "collapsed": false,
     "input": [
      "res = getResource(endpoint=endpoint, bbox=bbox, keywords=keywords, maxrecords=maxrecords, verbose=True)"
     ],
     "language": "python",
     "metadata": {},
     "outputs": []
    },
    {
     "cell_type": "code",
     "collapsed": false,
     "input": [
      "print res.keys()"
     ],
     "language": "python",
     "metadata": {},
     "outputs": []
    },
    {
     "cell_type": "code",
     "collapsed": false,
     "input": [
      "print res"
     ],
     "language": "python",
     "metadata": {},
     "outputs": []
    },
    {
     "cell_type": "code",
     "collapsed": false,
     "input": [
      "print res[res.keys()[0]]"
     ],
     "language": "python",
     "metadata": {},
     "outputs": []
    },
    {
     "cell_type": "code",
     "collapsed": false,
     "input": [
      "lines = !jist -p NODC_Geoportal.ipynb\n",
      "print lines[0].replace(\"https://gist.github.com\", \"http://nbviewer.ipython.org\")"
     ],
     "language": "python",
     "metadata": {},
     "outputs": []
    }
   ],
   "metadata": {}
  }
 ]
}